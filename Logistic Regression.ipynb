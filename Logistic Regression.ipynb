{
 "cells": [
  {
   "cell_type": "code",
   "execution_count": 1,
   "metadata": {},
   "outputs": [],
   "source": [
    "#Logistic Regression\n",
    "import numpy as np\n",
    "import matplotlib.pyplot as plt\n",
    "plt.ioff()"
   ]
  },
  {
   "cell_type": "code",
   "execution_count": 2,
   "metadata": {},
   "outputs": [],
   "source": [
    "X = np.random.randn(100, 2)"
   ]
  },
  {
   "cell_type": "code",
   "execution_count": 3,
   "metadata": {},
   "outputs": [],
   "source": [
    "M = .3\n",
    "C = .1\n",
    "cls = np.array(M*X[:,0] - X[:,1] + C > 0, dtype=np.int)"
   ]
  },
  {
   "cell_type": "code",
   "execution_count": 98,
   "metadata": {},
   "outputs": [
    {
     "data": {
      "text/plain": [
       "array([1, 0, 1, 1, 0, 1, 1, 0, 0, 1, 0, 0, 1, 1, 1, 1, 0, 1, 1, 1, 0, 0,\n",
       "       1, 0, 1, 1, 0, 1, 1, 0, 1, 1, 1, 0, 1, 1, 1, 1, 1, 0, 1, 1, 1, 0,\n",
       "       0, 0, 0, 1, 1, 0, 0, 1, 0, 1, 1, 1, 1, 1, 1, 0, 0, 1, 0, 1, 0, 1,\n",
       "       1, 1, 1, 1, 1, 0, 1, 0, 1, 0, 1, 1, 1, 1, 1, 1, 0, 0, 1, 0, 1, 0,\n",
       "       0, 0, 0, 1, 0, 1, 1, 0, 0, 0, 0, 1])"
      ]
     },
     "execution_count": 98,
     "metadata": {},
     "output_type": "execute_result"
    }
   ],
   "source": [
    "cls"
   ]
  },
  {
   "cell_type": "code",
   "execution_count": 4,
   "metadata": {},
   "outputs": [
    {
     "data": {
      "image/png": "[encoded data removed]",
      "text/plain": [
       "<Figure size 432x288 with 1 Axes>"
      ]
     },
     "metadata": {
      "needs_background": "light"
     },
     "output_type": "display_data"
    }
   ],
   "source": [
    "plt.scatter(X[:,0], X[:, 1], s=10, c=cls, cmap=plt.cm.Spectral)\n",
    "plt.plot(X[:,0], M*X[:,0]+C, 'r')\n",
    "plt.grid()"
   ]
  },
  {
   "cell_type": "code",
   "execution_count": 95,
   "metadata": {},
   "outputs": [],
   "source": [
    "\n",
    "class LogisticRegression:\n",
    "    def __init__(self, data, labels, num_steps=1000, learning_rate=.001):\n",
    "        self.data = data\n",
    "        self.labels = labels\n",
    "        self.num_steps = num_steps\n",
    "        self.learning_rate = learning_rate\n",
    "        self.num_samples = self.data.shape[0]\n",
    "        self.data_dim = self.data.shape[1]\n",
    "        self.weights = {'W': np.random.randn(self.data_dim, ), 'b': np.zeros(1)}\n",
    "        \n",
    "    @staticmethod\n",
    "    def sigmoid(z):\n",
    "        return 1./np.exp(1+np.exp(-z))\n",
    "\n",
    "    def forward_prop(self):\n",
    "        z = self.data.dot(self.weights['W']) + self.weights['b']\n",
    "        y_hat = self.sigmoid(z)\n",
    "        y = self.labels\n",
    "        N = self.num_samples\n",
    "        loss = -np.sum(y*np.log(y_hat) - (1-y)*np.log(1-y_hat))/N\n",
    "        return y_hat, loss\n",
    "\n",
    "    def back_prop(self, y_hat):\n",
    "#         y_hat = y_hat[:,0]\n",
    "        dz = y_hat - self.labels\n",
    "#         print(y_hat.shape, self.labels.shape, dz.shape,self.data.shape, 'SHAPES')\n",
    "        dW = self.data.T.dot(dz)\n",
    "        db = np.mean(dz, axis=0)\n",
    "#         print(dW.shape, db.shape, 'SHAPES')\n",
    "        return {'dW': dW, 'db': db}\n",
    "\n",
    "    def fit(self):\n",
    "        i = 0\n",
    "        while i<self.num_steps and i<100:\n",
    "            Y_hat, loss = self.forward_prop()\n",
    "            dtheta = self.back_prop(Y_hat)\n",
    "            dW, db = dtheta['dW'], dtheta['db']\n",
    "#             print(self.weights['W'].shape, self.weights['b'].shape, dW.shape, db.shape, 'SHAPESFIT')\n",
    "            self.weights['W']-=self.learning_rate*dW\n",
    "            self.weights['b']-=self.learning_rate*db\n",
    "#             if i%100==0:\n",
    "            print('Loss=%f at %ith iteration' %(loss, i), Y_hat[0])\n",
    "            i+=1\n",
    "\n",
    "    def predict(self, x):\n",
    "        return self.weights['W']*x + self.weights['b']"
   ]
  },
  {
   "cell_type": "code",
   "execution_count": 96,
   "metadata": {},
   "outputs": [],
   "source": [
    "regressor = LogisticRegression(data=X, labels=cls)"
   ]
  },
  {
   "cell_type": "code",
   "execution_count": 97,
   "metadata": {},
   "outputs": [
    {
     "name": "stdout",
     "output_type": "stream",
     "text": [
      "Loss=1.375254 at 0th iteration 0.3575335346798687\n",
      "Loss=1.353874 at 1th iteration 0.35789101786841027\n",
      "Loss=1.333365 at 2th iteration 0.3582355018242006\n",
      "Loss=1.313681 at 3th iteration 0.35856750383664876\n",
      "Loss=1.294782 at 4th iteration 0.3588875180230532\n",
      "Loss=1.276628 at 5th iteration 0.35919601652615557\n",
      "Loss=1.259184 at 6th iteration 0.35949345063021193\n",
      "Loss=1.242415 at 7th iteration 0.3597802518030618\n",
      "Loss=1.226287 at 8th iteration 0.36005683267156174\n",
      "Loss=1.210771 at 9th iteration 0.3603235879373154\n",
      "Loss=1.195836 at 10th iteration 0.36058089523898135\n",
      "Loss=1.181456 at 11th iteration 0.36082911596666645\n",
      "Loss=1.167604 at 12th iteration 0.36106859603309865\n",
      "Loss=1.154257 at 13th iteration 0.3612996666054903\n",
      "Loss=1.141391 at 14th iteration 0.3615226448012914\n",
      "Loss=1.128984 at 15th iteration 0.3617378343504224\n",
      "Loss=nan at 16th iteration 0.36194552622607395\n",
      "Loss=nan at 17th iteration 0.3621459992457697\n",
      "Loss=nan at 18th iteration 0.36233952064408503\n",
      "Loss=nan at 19th iteration 0.3625263466182024\n",
      "Loss=nan at 20th iteration 0.36270672284733124\n",
      "Loss=nan at 21th iteration 0.36288088498692084\n",
      "Loss=nan at 22th iteration 0.3630490591385401\n",
      "Loss=nan at 23th iteration 0.3632114622962634\n",
      "Loss=nan at 24th iteration 0.3633683027703999\n",
      "Loss=nan at 25th iteration 0.36351978058940576\n",
      "Loss=nan at 26th iteration 0.3636660878808396\n",
      "Loss=nan at 27th iteration 0.3638074092322406\n",
      "Loss=nan at 28th iteration 0.3639439220328315\n",
      "Loss=nan at 29th iteration 0.3640757967969705\n",
      "Loss=nan at 30th iteration 0.3642031974702866\n",
      "Loss=nan at 31th iteration 0.3643262817194426\n",
      "Loss=nan at 32th iteration 0.36444520120646445\n",
      "Loss=nan at 33th iteration 0.3645601018485633\n",
      "Loss=nan at 34th iteration 0.3646711240643522\n",
      "Loss=nan at 35th iteration 0.3647784030073266\n",
      "Loss=nan at 36th iteration 0.3648820687874355\n",
      "Loss=nan at 37th iteration 0.3649822466815237\n",
      "Loss=nan at 38th iteration 0.36507905733337337\n",
      "Loss=nan at 39th iteration 0.36517261694401737\n",
      "Loss=nan at 40th iteration 0.3652630374529457\n",
      "Loss=nan at 41th iteration 0.3653504267107714\n",
      "Loss=nan at 42th iteration 0.3654348886438738\n",
      "Loss=nan at 43th iteration 0.36551652341149105\n",
      "Loss=nan at 44th iteration 0.36559542755569113\n",
      "Loss=nan at 45th iteration 0.3656716941446165\n",
      "Loss=nan at 46th iteration 0.3657454129093612\n",
      "Loss=nan at 47th iteration 0.36581667037481436\n",
      "Loss=nan at 48th iteration 0.36588554998477607\n",
      "Loss=nan at 49th iteration 0.36595213222163214\n",
      "Loss=nan at 50th iteration 0.3660164947208535\n",
      "Loss=nan at 51th iteration 0.366078712380571\n",
      "Loss=nan at 52th iteration 0.36613885746645913\n",
      "Loss=nan at 53th iteration 0.36619699971215053\n",
      "Loss=nan at 54th iteration 0.3662532064153905\n",
      "Loss=nan at 55th iteration 0.3663075425301282\n",
      "Loss=nan at 56th iteration 0.36636007075473365\n",
      "Loss=nan at 57th iteration 0.3664108516165174\n",
      "Loss=nan at 58th iteration 0.3664599435527222\n",
      "Loss=nan at 59th iteration 0.3665074029881482\n",
      "Loss=nan at 60th iteration 0.3665532844095646\n",
      "Loss=nan at 61th iteration 0.3665976404370527\n",
      "Loss=nan at 62th iteration 0.36664052189242075\n",
      "Loss=nan at 63th iteration 0.36668197786482204\n",
      "Loss=nan at 64th iteration 0.3667220557737029\n",
      "Loss=nan at 65th iteration 0.36676080142920026\n",
      "Loss=nan at 66th iteration 0.3667982590901047\n",
      "Loss=nan at 67th iteration 0.36683447151949744\n",
      "Loss=nan at 68th iteration 0.3668694800381657\n",
      "Loss=nan at 69th iteration 0.36690332457589664\n",
      "Loss=nan at 70th iteration 0.36693604372074373\n",
      "Loss=nan at 71th iteration 0.3669676747663574\n",
      "Loss=nan at 72th iteration 0.366998253757464\n",
      "Loss=nan at 73th iteration 0.367027815533578\n",
      "Loss=nan at 74th iteration 0.36705639377102395\n",
      "Loss=nan at 75th iteration 0.36708402102334226\n",
      "Loss=nan at 76th iteration 0.3671107287601526\n",
      "Loss=nan at 77th iteration 0.3671365474045398\n",
      "Loss=nan at 78th iteration 0.3671615063690284\n",
      "Loss=nan at 79th iteration 0.367185634090206\n",
      "Loss=nan at 80th iteration 0.36720895806205606\n",
      "Loss=nan at 81th iteration 0.3672315048680524\n",
      "Loss=nan at 82th iteration 0.3672533002120721\n",
      "Loss=nan at 83th iteration 0.36727436894817367\n",
      "Loss=nan at 84th iteration 0.36729473510929167\n",
      "Loss=nan at 85th iteration 0.3673144219348899\n",
      "Loss=nan at 86th iteration 0.36733345189762034\n",
      "Loss=nan at 87th iteration 0.36735184672902566\n",
      "Loss=nan at 88th iteration 0.3673696274443261\n",
      "Loss=nan at 89th iteration 0.3673868143663293\n",
      "Loss=nan at 90th iteration 0.367403427148496\n",
      "Loss=nan at 91th iteration 0.3674194847971968\n",
      "Loss=nan at 92th iteration 0.3674350056931933\n",
      "Loss=nan at 93th iteration 0.36745000761237123\n",
      "Loss=nan at 94th iteration 0.36746450774575884\n",
      "Loss=nan at 95th iteration 0.3674785227188545\n",
      "Loss=nan at 96th iteration 0.3674920686102923\n",
      "Loss=nan at 97th iteration 0.3675051609698703\n",
      "Loss=nan at 98th iteration 0.3675178148359661\n",
      "Loss=nan at 99th iteration 0.36753004475236134\n"
     ]
    },
    {
     "name": "stderr",
     "output_type": "stream",
     "text": [
      "/Users/piyushsi/Library/Python/3.6/lib/python/site-packages/ipykernel_launcher.py:14: RuntimeWarning: overflow encountered in exp\n",
      "  \n",
      "/Users/piyushsi/Library/Python/3.6/lib/python/site-packages/ipykernel_launcher.py:21: RuntimeWarning: divide by zero encountered in log\n",
      "/Users/piyushsi/Library/Python/3.6/lib/python/site-packages/ipykernel_launcher.py:21: RuntimeWarning: invalid value encountered in multiply\n"
     ]
    }
   ],
   "source": [
    "regressor.fit()"
   ]
  },
  {
   "cell_type": "code",
   "execution_count": null,
   "metadata": {},
   "outputs": [],
   "source": []
  },
  {
   "cell_type": "code",
   "execution_count": null,
   "metadata": {},
   "outputs": [],
   "source": []
  }
 ],
 "metadata": {
  "kernelspec": {
   "display_name": "Python 3",
   "language": "python",
   "name": "python3"
  },
  "language_info": {
   "codemirror_mode": {
    "name": "ipython",
    "version": 3
   },
   "file_extension": ".py",
   "mimetype": "text/x-python",
   "name": "python",
   "nbconvert_exporter": "python",
   "pygments_lexer": "ipython3",
   "version": "3.6.5"
  }
 },
 "nbformat": 4,
 "nbformat_minor": 1
}

{
 "cells": [
  {
   "cell_type": "code",
   "execution_count": 12,
   "metadata": {
    "collapsed": false
   },
   "outputs": [],
   "source": [
    "#Linear Regression\n",
    "import numpy as np\n",
    "import matplotlib.pyplot as plt\n",
    "%matplotlib inline"
   ]
  },
  {
   "cell_type": "code",
   "execution_count": 13,
   "metadata": {
    "collapsed": false,
    "scrolled": true
   },
   "outputs": [
    {
     "data": {
      "text/plain": [
       "<matplotlib.collections.PathCollection at 0x10bda7da0>"
      ]
     },
     "execution_count": 13,
     "metadata": {},
     "output_type": "execute_result"
    },
    {
     "data": {
      "image/png": "[encoded data removed]",
      "text/plain": [
       "<Figure size 600x400 with 1 Axes>"
      ]
     },
     "metadata": {},
     "output_type": "display_data"
    }
   ],
   "source": [
    "# Sample 100 points near a line\n",
    "N = 100\n",
    "M, C = .78, 3.07\n",
    "X = np.linspace(-10, 10, N)\n",
    "Y = (M*X + C) + np.random.randn(N)\n",
    "plt.scatter(X, Y, 10)"
   ]
  },
  {
   "cell_type": "code",
   "execution_count": 14,
   "metadata": {
    "collapsed": true
   },
   "outputs": [],
   "source": [
    "# Initialize m and c\n",
    "m = 0\n",
    "c = 0\n",
    "i = 0"
   ]
  },
  {
   "cell_type": "code",
   "execution_count": 15,
   "metadata": {
    "collapsed": false,
    "scrolled": true
   },
   "outputs": [
    {
     "name": "stdout",
     "output_type": "stream",
     "text": [
      "Loss = 31.583057\n",
      "Loss = 7.327148\n",
      "Loss = 5.186470\n",
      "Loss = 3.752116\n",
      "Loss = 2.791025\n",
      "Loss = 2.147044\n",
      "Loss = 1.715544\n",
      "Loss = 1.426417\n",
      "Loss = 1.232686\n",
      "Loss = 1.102877\n"
     ]
    }
   ],
   "source": [
    "while i<1000:\n",
    "    Y_hat = m*X + c\n",
    "    costs = (Y_hat-Y)**2    \n",
    "    loss = np.sum(costs)/N\n",
    "    dY_hat = 2/N*(Y_hat-Y)\n",
    "    dm = np.dot(dY_hat, X)\n",
    "    dc = np.sum(dY_hat)\n",
    "    m-=.001*dm\n",
    "    c-=.001*dc\n",
    "    if i%100==0:\n",
    "        print('Loss = %f' %loss)\n",
    "    i+=1\n"
   ]
  },
  {
   "cell_type": "code",
   "execution_count": 16,
   "metadata": {
    "collapsed": false,
    "scrolled": true
   },
   "outputs": [
    {
     "name": "stdout",
     "output_type": "stream",
     "text": [
      "Original parameters: {m:0.780000, c: 3.070000}\n",
      "Predicted parameters: {m:0.786971, c: 2.691415}\n"
     ]
    },
    {
     "data": {
      "image/png": "[encoded data removed]",
      "text/plain": [
       "<Figure size 600x400 with 1 Axes>"
      ]
     },
     "metadata": {},
     "output_type": "display_data"
    }
   ],
   "source": [
    "plt.grid()\n",
    "plt.scatter(X, Y, 10)\n",
    "plt.plot(X, m*X+c, 'r')\n",
    "print(\"Original parameters: {m:%f, c: %f}\" %(M, C))\n",
    "print(\"Predicted parameters: {m:%f, c: %f}\" %(m, c))\n"
   ]
  },
  {
   "cell_type": "markdown",
   "metadata": {},
   "source": [
    "## Let us make our code modular\n",
    "\n",
    "This is the thinking:\n",
    "\n",
    "Initialize $\\theta$<br>\n",
    "i = 0 <br>\n",
    "while i < 1000:<br>\n",
    "    &nbsp;&nbsp;&nbsp;&nbsp;$Y_{hat}, loss = forwardProp(\\theta, X, Y)$<br>\n",
    "    &nbsp;&nbsp;&nbsp;&nbsp;$\\partial \\theta = backProp(X, Y_{hat}, Y)$<br>\n",
    "    &nbsp;&nbsp;&nbsp;&nbsp;$\\theta = update(\\theta, \\partial \\theta)$<br>\n"
   ]
  },
  {
   "cell_type": "code",
   "execution_count": 17,
   "metadata": {
    "collapsed": true
   },
   "outputs": [],
   "source": [
    "import numpy as np\n",
    "def sample(N = 100):\n",
    "    M, C = .78, 3.07\n",
    "    X = np.linspace(-10, 10, N)\n",
    "    Y = (M*X + C) + np.random.randn(N)\n",
    "    return X, Y, M, C"
   ]
  },
  {
   "cell_type": "code",
   "execution_count": 18,
   "metadata": {
    "collapsed": false
   },
   "outputs": [],
   "source": [
    "def forward_prop(theta, X, Y):\n",
    "    N = X.shape[0]\n",
    "    m, c = theta['m'], theta['c']\n",
    "    Y_hat = m*X + c\n",
    "    costs = (Y_hat-Y)**2\n",
    "    loss = np.sum(costs)/N\n",
    "    return Y_hat, loss\n",
    "    "
   ]
  },
  {
   "cell_type": "code",
   "execution_count": 19,
   "metadata": {
    "collapsed": false
   },
   "outputs": [],
   "source": [
    "def back_prop(X, Y_hat, Y):\n",
    "    N = X.shape[0]\n",
    "    dY_hat = 2/N*(Y_hat-Y)\n",
    "    dm = np.dot(dY_hat, X)\n",
    "    dc = np.sum(dY_hat)\n",
    "    dtheta = {'dm': dm, 'dc': dc}\n",
    "    return dtheta\n",
    "    "
   ]
  },
  {
   "cell_type": "code",
   "execution_count": 20,
   "metadata": {
    "collapsed": true
   },
   "outputs": [],
   "source": [
    "def update(theta, dtheta, learning_rate=.001):\n",
    "    theta['m']-=learning_rate*dtheta['dm']\n",
    "    theta['c']-=learning_rate*dtheta['dc']\n",
    "    return theta"
   ]
  },
  {
   "cell_type": "code",
   "execution_count": 21,
   "metadata": {
    "collapsed": false
   },
   "outputs": [
    {
     "name": "stdout",
     "output_type": "stream",
     "text": [
      "Loss=30.405335 at 0th iteration\n",
      "Loss=7.557010 at 100th iteration\n",
      "Loss=5.387847 at 200th iteration\n",
      "Loss=3.934405 at 300th iteration\n",
      "Loss=2.960524 at 400th iteration\n",
      "Loss=2.307974 at 500th iteration\n",
      "Loss=1.870731 at 600th iteration\n",
      "Loss=1.577756 at 700th iteration\n",
      "Loss=1.381448 at 800th iteration\n",
      "Loss=1.249911 at 900th iteration\n"
     ]
    }
   ],
   "source": [
    "X, Y, m_orig, c_orig = sample()\n",
    "theta = {'m': 0, 'c': 0}\n",
    "i = 0\n",
    "while i<1000:\n",
    "    Y_hat, loss = forward_prop(theta, X, Y)\n",
    "    dtheta = back_prop(X, Y_hat, Y)\n",
    "    theta = update(theta, dtheta)\n",
    "    if i%100==0:\n",
    "        print('Loss=%f at %ith iteration' %(loss, i))\n",
    "    i+=1"
   ]
  }
 ],
 "metadata": {
  "kernelspec": {
   "display_name": "Python 3",
   "language": "python",
   "name": "python3"
  },
  "language_info": {
   "codemirror_mode": {
    "name": "ipython",
    "version": 3
   },
   "file_extension": ".py",
   "mimetype": "text/x-python",
   "name": "python",
   "nbconvert_exporter": "python",
   "pygments_lexer": "ipython3",
   "version": "3.6.5"
  }
 },
 "nbformat": 4,
 "nbformat_minor": 0
}

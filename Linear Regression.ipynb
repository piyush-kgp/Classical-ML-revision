{
 "cells": [
  {
   "cell_type": "code",
   "execution_count": 1,
   "metadata": {},
   "outputs": [],
   "source": [
    "#Linear Regression\n",
    "import numpy as np\n",
    "import matplotlib.pyplot as plt\n",
    "import matplotlib.animation as animation\n",
    "plt.ioff()"
   ]
  },
  {
   "cell_type": "code",
   "execution_count": 2,
   "metadata": {
    "scrolled": true
   },
   "outputs": [
    {
     "data": {
      "text/plain": [
       "<matplotlib.collections.PathCollection at 0x1098ab908>"
      ]
     },
     "execution_count": 2,
     "metadata": {},
     "output_type": "execute_result"
    },
    {
     "data": {
      "image/png": "[encoded data removed]",
      "text/plain": [
       "<Figure size 432x288 with 1 Axes>"
      ]
     },
     "metadata": {
      "needs_background": "light"
     },
     "output_type": "display_data"
    }
   ],
   "source": [
    "# Sample 100 points near a line\n",
    "N = 100\n",
    "M, C = .78, 3.07\n",
    "X = np.linspace(-10, 10, N)\n",
    "Y = (M*X + C) + np.random.randn(N)\n",
    "plt.scatter(X, Y, s=10, c='b')"
   ]
  },
  {
   "cell_type": "code",
   "execution_count": 3,
   "metadata": {},
   "outputs": [],
   "source": [
    "# Initialize m and c\n",
    "m = 0\n",
    "c = 0\n",
    "i = 0"
   ]
  },
  {
   "cell_type": "code",
   "execution_count": 4,
   "metadata": {
    "scrolled": true
   },
   "outputs": [
    {
     "name": "stdout",
     "output_type": "stream",
     "text": [
      "Loss = 32.567373\n",
      "Loss = 7.588949\n",
      "Loss = 5.312010\n",
      "Loss = 3.786353\n",
      "Loss = 2.764085\n",
      "Loss = 2.079112\n",
      "Loss = 1.620146\n",
      "Loss = 1.312614\n",
      "Loss = 1.106552\n",
      "Loss = 0.968480\n"
     ]
    }
   ],
   "source": [
    "while i<1000:\n",
    "    Y_hat = m*X + c\n",
    "    costs = (Y_hat-Y)**2    \n",
    "    loss = np.sum(costs)/N\n",
    "    dY_hat = 2/N*(Y_hat-Y)\n",
    "    dm = np.dot(dY_hat, X)\n",
    "    dc = np.sum(dY_hat)\n",
    "    m-=.001*dm\n",
    "    c-=.001*dc\n",
    "    if i%100==0:\n",
    "        print('Loss = %f' %loss)\n",
    "    i+=1\n"
   ]
  },
  {
   "cell_type": "code",
   "execution_count": 5,
   "metadata": {
    "scrolled": true
   },
   "outputs": [
    {
     "name": "stdout",
     "output_type": "stream",
     "text": [
      "Original parameters: {m:0.780000, c: 3.070000}\n",
      "Predicted parameters: {m:0.796611, c: 2.775753}\n"
     ]
    },
    {
     "data": {
      "image/png": "[encoded data removed]",
      "text/plain": [
       "<Figure size 432x288 with 1 Axes>"
      ]
     },
     "metadata": {
      "needs_background": "light"
     },
     "output_type": "display_data"
    }
   ],
   "source": [
    "plt.grid()\n",
    "plt.scatter(X, Y, 10)\n",
    "plt.plot(X, m*X+c, 'r')\n",
    "print(\"Original parameters: {m:%f, c: %f}\" %(M, C))\n",
    "print(\"Predicted parameters: {m:%f, c: %f}\" %(m, c))\n"
   ]
  },
  {
   "cell_type": "markdown",
   "metadata": {},
   "source": [
    "## Let us make our code modular\n",
    "\n",
    "\n",
    "Initialize $\\theta$<br>\n",
    "i = 0 <br>\n",
    "while i < 1000:<br>\n",
    "    &nbsp;&nbsp;&nbsp;&nbsp;$Y_{hat}, loss = forwardProp(\\theta, X, Y)$<br>\n",
    "    &nbsp;&nbsp;&nbsp;&nbsp;$\\partial \\theta = backProp(X, Y_{hat}, Y)$<br>\n",
    "    &nbsp;&nbsp;&nbsp;&nbsp;$\\theta = update(\\theta, \\partial \\theta)$<br>\n",
    "\n"
   ]
  },
  {
   "cell_type": "markdown",
   "metadata": {},
   "source": [
    "The equations for forward prop (1st 2) and backward prop (last) are:\n",
    "\\begin{equation}\n",
    "\\hat Y = mX + c \\\\\n",
    "L = \\frac1N \\times \\sum_{i=1}^{N} (\\hat Y_i-Y_i)^2 \\\\\n",
    "\\frac{\\partial{L}}{\\partial \\hat Y} = \\frac2N \\times \\sum_{i=1}^{N} (\\hat Y_i-Y_i) \\\\\n",
    "\\end{equation}"
   ]
  },
  {
   "cell_type": "code",
   "execution_count": 6,
   "metadata": {},
   "outputs": [],
   "source": [
    "import numpy as np\n",
    "class LinearRegression:\n",
    "    def __init__(self, M=.78, C=3.07, num_steps=1000, learning_rate=.001):\n",
    "        self.X, self.Y = self.sample_data(M, C)\n",
    "        self.num_steps = num_steps\n",
    "        self.learning_rate = learning_rate\n",
    "\n",
    "    def sample_data(self, M, C, N=100):\n",
    "        X = np.linspace(-10, 10, N)\n",
    "        Y = (M*X + C) + np.random.randn(N)\n",
    "        return X, Y\n",
    "\n",
    "    def forward_prop(self, theta, X, Y):\n",
    "        N = X.shape[0]\n",
    "        m, c = theta['m'], theta['c']\n",
    "        Y_hat = m*X + c\n",
    "        costs = (Y_hat-Y)**2\n",
    "        loss = np.sum(costs)/N\n",
    "        return Y_hat, loss\n",
    "\n",
    "    def back_prop(self, X, Y_hat, Y):\n",
    "        N = X.shape[0]\n",
    "        dY_hat = 2/N*(Y_hat-Y)\n",
    "        dm = np.dot(dY_hat, X)\n",
    "        dc = np.sum(dY_hat)\n",
    "        dtheta = {'dm': dm, 'dc': dc}\n",
    "        return dtheta\n",
    "\n",
    "    def update(self, theta, dtheta):\n",
    "        theta['m']-=self.learning_rate*dtheta['dm']\n",
    "        theta['c']-=self.learning_rate*dtheta['dc']\n",
    "        return theta\n",
    "\n",
    "    def fit(self):\n",
    "        self.theta = {'m': 0, 'c': 0}\n",
    "        i = 0\n",
    "        while i<self.num_steps:\n",
    "            Y_hat, loss = self.forward_prop(self.theta, self.X, self.Y)\n",
    "            dtheta = self.back_prop(self.X, Y_hat, self.Y)\n",
    "            self.theta = self.update(self.theta, dtheta)\n",
    "            if i%100==0:\n",
    "                print('Loss=%f at %ith iteration' %(loss, i))\n",
    "            i+=1\n",
    "\n",
    "    def predict(self, x):\n",
    "        return self.theta['m']*x + self.theta['c']"
   ]
  },
  {
   "cell_type": "code",
   "execution_count": 7,
   "metadata": {},
   "outputs": [
    {
     "name": "stdout",
     "output_type": "stream",
     "text": [
      "Loss=31.654369 at 0th iteration\n",
      "Loss=7.315103 at 100th iteration\n",
      "Loss=5.185082 at 200th iteration\n",
      "Loss=3.757868 at 300th iteration\n",
      "Loss=2.801562 at 400th iteration\n",
      "Loss=2.160787 at 500th iteration\n",
      "Loss=1.731435 at 600th iteration\n",
      "Loss=1.443747 at 700th iteration\n",
      "Loss=1.250981 at 800th iteration\n",
      "Loss=1.121818 at 900th iteration\n"
     ]
    }
   ],
   "source": [
    "regressor = LinearRegression()\n",
    "regressor.fit()"
   ]
  },
  {
   "cell_type": "code",
   "execution_count": 8,
   "metadata": {},
   "outputs": [
    {
     "name": "stdout",
     "output_type": "stream",
     "text": [
      "For X=100, Y_true = 81.070000, Y_pred = 81.567019\n"
     ]
    }
   ],
   "source": [
    "print('For X=100, Y_true = %f, Y_pred = %f' %(100*.78+3.07, regressor.predict(100)))"
   ]
  }
 ],
 "metadata": {
  "kernelspec": {
   "display_name": "Python 3",
   "language": "python",
   "name": "python3"
  },
  "language_info": {
   "codemirror_mode": {
    "name": "ipython",
    "version": 3
   },
   "file_extension": ".py",
   "mimetype": "text/x-python",
   "name": "python",
   "nbconvert_exporter": "python",
   "pygments_lexer": "ipython3",
   "version": "3.6.5"
  }
 },
 "nbformat": 4,
 "nbformat_minor": 2
}

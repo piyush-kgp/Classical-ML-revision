{
 "cells": [
  {
   "cell_type": "code",
   "execution_count": null,
   "metadata": {},
   "outputs": [],
   "source": [
    "x = np.linspace(0, np.pi, 1000)\n",
    "y = np.sin(x)\n",
    "y2 = np.cos(x)\n",
    "data = np.array([x, y])\n",
    "data2 = np.array([x, y2])\n"
   ]
  },
  {
   "cell_type": "code",
   "execution_count": null,
   "metadata": {},
   "outputs": [],
   "source": [
    "def update_line(num, data, line):\n",
    "#     print('*', num, '*', data, '*', line,'*')\n",
    "    line.set_data(data)\n",
    "    return line\n",
    "fig=plt.figure(figsize=(10,6))\n",
    "plot = plt.plot([], [], 'r-', label='SINE')[0]\n",
    "sine_ani = animation.FuncAnimation(fig, update_line, frames=100, fargs=(data, plot))\n",
    "Writer = animation.writers['ffmpeg']\n",
    "writer = Writer(fps=10,metadata={'artist':'matplotlib'},bitrate=-1)\n",
    "sine_ani.save('sine.mp4', writer=writer)"
   ]
  },
  {
   "cell_type": "code",
   "execution_count": null,
   "metadata": {},
   "outputs": [],
   "source": [
    "def update_line(num, data, line, data2, line2):\n",
    "    print('*', num, '*', data.shape, '*', line,'*')\n",
    "#     line.set_data(data)\n",
    "    return line\n",
    "\n",
    "fig=plt.figure(figsize=(10,6))\n",
    "ax=fig.add_subplot(2,1,1)\n",
    "sinline = ax.plot([], [], 'r-', label='SINE')[0]\n",
    "ax.legend(sinline.get_label())\n",
    "ax2=fig.add_subplot(2,1,2)\n",
    "cosline = ax2.plot([], [], 'r-', label='COSINE')[0]\n",
    "ax2.legend(cosline.get_label())\n",
    "# sine_ani = animation.FuncAnimation(fig, update_line, frames=100, fargs=(data, plot))\n",
    "# Writer = animation.writers['ffmpeg']\n",
    "# writer = Writer(fps=10,metadata={'artist':'matplotlib'},bitrate=1)\n",
    "# sine_ani.save('sine.mp4', writer=writer)"
   ]
  }
 ],
 "metadata": {
  "kernelspec": {
   "display_name": "Python 3",
   "language": "python",
   "name": "python3"
  },
  "language_info": {
   "codemirror_mode": {
    "name": "ipython",
    "version": 3
   },
   "file_extension": ".py",
   "mimetype": "text/x-python",
   "name": "python",
   "nbconvert_exporter": "python",
   "pygments_lexer": "ipython3",
   "version": "3.6.5"
  }
 },
 "nbformat": 4,
 "nbformat_minor": 2
}

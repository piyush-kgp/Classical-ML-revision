{
 "cells": [
  {
   "cell_type": "code",
   "execution_count": 1,
   "metadata": {
    "collapsed": false
   },
   "outputs": [],
   "source": [
    "%matplotlib inline"
   ]
  },
  {
   "cell_type": "markdown",
   "metadata": {},
   "source": [
    "\n",
    "# The double pendulum problem\n",
    "\n",
    "\n",
    "This animation illustrates the double pendulum problem.\n",
    "\n",
    "Double pendulum formula translated from the C code at\n",
    "http://www.physics.usyd.edu.au/~wheat/dpend_html/solve_dpend.c\n",
    "\n"
   ]
  },
  {
   "cell_type": "code",
   "execution_count": 2,
   "metadata": {
    "collapsed": false
   },
   "outputs": [
    {
     "data": {
      "image/png": "[encoded data removed]",
      "text/plain": [
       "<Figure size 600x400 with 1 Axes>"
      ]
     },
     "metadata": {},
     "output_type": "display_data"
    }
   ],
   "source": [
    "from numpy import sin, cos\n",
    "import numpy as np\n",
    "import matplotlib.pyplot as plt\n",
    "import scipy.integrate as integrate\n",
    "import matplotlib.animation as animation\n",
    "\n",
    "G = 9.8  # acceleration due to gravity, in m/s^2\n",
    "L1 = 1.0  # length of pendulum 1 in m\n",
    "L2 = 1.0  # length of pendulum 2 in m\n",
    "M1 = 1.0  # mass of pendulum 1 in kg\n",
    "M2 = 1.0  # mass of pendulum 2 in kg\n",
    "\n",
    "\n",
    "def derivs(state, t):\n",
    "\n",
    "    dydx = np.zeros_like(state)\n",
    "    dydx[0] = state[1]\n",
    "\n",
    "    del_ = state[2] - state[0]\n",
    "    den1 = (M1 + M2)*L1 - M2*L1*cos(del_)*cos(del_)\n",
    "    dydx[1] = (M2*L1*state[1]*state[1]*sin(del_)*cos(del_) +\n",
    "               M2*G*sin(state[2])*cos(del_) +\n",
    "               M2*L2*state[3]*state[3]*sin(del_) -\n",
    "               (M1 + M2)*G*sin(state[0]))/den1\n",
    "\n",
    "    dydx[2] = state[3]\n",
    "\n",
    "    den2 = (L2/L1)*den1\n",
    "    dydx[3] = (-M2*L2*state[3]*state[3]*sin(del_)*cos(del_) +\n",
    "               (M1 + M2)*G*sin(state[0])*cos(del_) -\n",
    "               (M1 + M2)*L1*state[1]*state[1]*sin(del_) -\n",
    "               (M1 + M2)*G*sin(state[2]))/den2\n",
    "\n",
    "    return dydx\n",
    "\n",
    "# create a time array from 0..100 sampled at 0.05 second steps\n",
    "dt = 0.05\n",
    "t = np.arange(0.0, 20, dt)\n",
    "\n",
    "# th1 and th2 are the initial angles (degrees)\n",
    "# w10 and w20 are the initial angular velocities (degrees per second)\n",
    "th1 = 120.0\n",
    "w1 = 0.0\n",
    "th2 = -10.0\n",
    "w2 = 0.0\n",
    "\n",
    "# initial state\n",
    "state = np.radians([th1, w1, th2, w2])\n",
    "\n",
    "# integrate your ODE using scipy.integrate.\n",
    "y = integrate.odeint(derivs, state, t)\n",
    "\n",
    "x1 = L1*sin(y[:, 0])\n",
    "y1 = -L1*cos(y[:, 0])\n",
    "\n",
    "x2 = L2*sin(y[:, 2]) + x1\n",
    "y2 = -L2*cos(y[:, 2]) + y1\n",
    "\n",
    "fig = plt.figure()\n",
    "ax = fig.add_subplot(111, autoscale_on=False, xlim=(-2, 2), ylim=(-2, 2))\n",
    "ax.set_aspect('equal')\n",
    "ax.grid()\n",
    "\n",
    "line, = ax.plot([], [], 'o-', lw=2)\n",
    "time_template = 'time = %.1fs'\n",
    "time_text = ax.text(0.05, 0.9, '', transform=ax.transAxes)\n",
    "\n",
    "\n",
    "def init():\n",
    "    line.set_data([], [])\n",
    "    time_text.set_text('')\n",
    "    return line, time_text\n",
    "\n",
    "\n",
    "def animate(i):\n",
    "    thisx = [0, x1[i], x2[i]]\n",
    "    thisy = [0, y1[i], y2[i]]\n",
    "\n",
    "    line.set_data(thisx, thisy)\n",
    "    time_text.set_text(time_template % (i*dt))\n",
    "    return line, time_text\n",
    "\n",
    "ani = animation.FuncAnimation(fig, animate, np.arange(1, len(y)),\n",
    "                              interval=25, blit=True, init_func=init)\n",
    "\n",
    "plt.show()"
   ]
  }
 ],
 "metadata": {
  "kernelspec": {
   "display_name": "Python 3",
   "language": "python",
   "name": "python3"
  },
  "language_info": {
   "codemirror_mode": {
    "name": "ipython",
    "version": 3
   },
   "file_extension": ".py",
   "mimetype": "text/x-python",
   "name": "python",
   "nbconvert_exporter": "python",
   "pygments_lexer": "ipython3",
   "version": "3.6.5"
  }
 },
 "nbformat": 4,
 "nbformat_minor": 0
}

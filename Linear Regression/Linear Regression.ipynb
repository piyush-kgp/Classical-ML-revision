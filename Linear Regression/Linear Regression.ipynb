{
 "cells": [
  {
   "cell_type": "code",
   "execution_count": 1,
   "metadata": {},
   "outputs": [],
   "source": [
    "#Linear Regression\n",
    "import numpy as np\n",
    "import matplotlib.pyplot as plt\n",
    "plt.ioff()"
   ]
  },
  {
   "cell_type": "code",
   "execution_count": 2,
   "metadata": {
    "scrolled": true
   },
   "outputs": [
    {
     "data": {
      "text/plain": [
       "<matplotlib.collections.PathCollection at 0x7f86b26b7c88>"
      ]
     },
     "execution_count": 2,
     "metadata": {},
     "output_type": "execute_result"
    },
    {
     "data": {
      "image/png": "[encoded data removed]",
      "text/plain": [
       "<Figure size 432x288 with 1 Axes>"
      ]
     },
     "metadata": {
      "needs_background": "light"
     },
     "output_type": "display_data"
    }
   ],
   "source": [
    "# Sample 100 points near a line\n",
    "N = 100\n",
    "M, C = .78, 3.07\n",
    "X = np.linspace(-10, 10, N)\n",
    "Y = (M*X + C) + np.random.randn(N)\n",
    "plt.scatter(X, Y, s=10, c='b')"
   ]
  },
  {
   "cell_type": "code",
   "execution_count": 3,
   "metadata": {},
   "outputs": [],
   "source": [
    "# Initialize m and c\n",
    "m = 0\n",
    "c = 0\n",
    "i = 0"
   ]
  },
  {
   "cell_type": "code",
   "execution_count": 4,
   "metadata": {
    "scrolled": true
   },
   "outputs": [
    {
     "name": "stdout",
     "output_type": "stream",
     "text": [
      "Loss = 33.392854\n",
      "Loss = 7.426058\n",
      "Loss = 5.276075\n",
      "Loss = 3.835486\n",
      "Loss = 2.870218\n",
      "Loss = 2.223438\n",
      "Loss = 1.790062\n",
      "Loss = 1.499678\n",
      "Loss = 1.305106\n",
      "Loss = 1.174732\n"
     ]
    }
   ],
   "source": [
    "while i<1000:\n",
    "    Y_hat = m*X + c\n",
    "    costs = (Y_hat-Y)**2    \n",
    "    loss = np.sum(costs)/N\n",
    "    dY_hat = 2/N*(Y_hat-Y)\n",
    "    dm = np.dot(dY_hat, X)\n",
    "    dc = np.sum(dY_hat)\n",
    "    m-=.001*dm\n",
    "    c-=.001*dc\n",
    "    if i%100==0:\n",
    "        print('Loss = %f' %loss)\n",
    "    i+=1\n"
   ]
  },
  {
   "cell_type": "code",
   "execution_count": 5,
   "metadata": {
    "scrolled": true
   },
   "outputs": [
    {
     "name": "stdout",
     "output_type": "stream",
     "text": [
      "Original parameters: {m:0.780000, c: 3.070000}\n",
      "Predicted parameters: {m:0.818062, c: 2.697257}\n"
     ]
    },
    {
     "data": {
      "image/png": "[encoded data removed]",
      "text/plain": [
       "<Figure size 432x288 with 1 Axes>"
      ]
     },
     "metadata": {
      "needs_background": "light"
     },
     "output_type": "display_data"
    }
   ],
   "source": [
    "plt.grid()\n",
    "plt.scatter(X, Y, 10)\n",
    "plt.plot(X, m*X+c, 'r')\n",
    "print(\"Original parameters: {m:%f, c: %f}\" %(M, C))\n",
    "print(\"Predicted parameters: {m:%f, c: %f}\" %(m, c))\n"
   ]
  },
  {
   "cell_type": "markdown",
   "metadata": {},
   "source": [
    "## Let us make our code modular\n",
    "\n",
    "\n",
    "Initialize $\\theta$<br>\n",
    "i = 0 <br>\n",
    "while i < 1000:<br>\n",
    "    &nbsp;&nbsp;&nbsp;&nbsp;$Y_{hat}, loss = forwardProp(\\theta, X, Y)$<br>\n",
    "    &nbsp;&nbsp;&nbsp;&nbsp;$\\partial \\theta = backProp(X, Y_{hat}, Y)$<br>\n",
    "    &nbsp;&nbsp;&nbsp;&nbsp;$\\theta = update(\\theta, \\partial \\theta)$<br>\n",
    "\n"
   ]
  },
  {
   "cell_type": "markdown",
   "metadata": {},
   "source": [
    "The equations for forward prop (1st 2) and backward prop (last) are:\n",
    "\\begin{equation}\n",
    "\\hat Y = mX + c \\\\\n",
    "L = \\frac1N \\times \\sum_{i=1}^{N} (\\hat Y_i-Y_i)^2 \\\\\n",
    "\\frac{\\partial{L}}{\\partial \\hat Y} = \\frac2N \\times \\sum_{i=1}^{N} (\\hat Y_i-Y_i) \\\\\n",
    "\\end{equation}"
   ]
  },
  {
   "cell_type": "code",
   "execution_count": 6,
   "metadata": {},
   "outputs": [],
   "source": [
    "import numpy as np\n",
    "class LinearRegression:\n",
    "    def __init__(self, M=.78, C=3.07, num_steps=1000, learning_rate=.001):\n",
    "        self.X, self.Y = self.sample_data(M, C)\n",
    "        self.num_steps = num_steps\n",
    "        self.learning_rate = learning_rate\n",
    "\n",
    "    def sample_data(self, M, C, N=100):\n",
    "        X = np.linspace(-10, 10, N)\n",
    "        Y = (M*X + C) + np.random.randn(N)\n",
    "        return X, Y\n",
    "\n",
    "    def forward_prop(self, theta, X, Y):\n",
    "        N = X.shape[0]\n",
    "        m, c = theta['m'], theta['c']\n",
    "        Y_hat = m*X + c\n",
    "        costs = (Y_hat-Y)**2\n",
    "        loss = np.sum(costs)/N\n",
    "        return Y_hat, loss\n",
    "\n",
    "    def back_prop(self, X, Y_hat, Y):\n",
    "        N = X.shape[0]\n",
    "        dY_hat = 2/N*(Y_hat-Y)\n",
    "        dm = np.dot(dY_hat, X)\n",
    "        dc = np.sum(dY_hat)\n",
    "        dtheta = {'dm': dm, 'dc': dc}\n",
    "        return dtheta\n",
    "\n",
    "    def update(self, theta, dtheta):\n",
    "        theta['m']-=self.learning_rate*dtheta['dm']\n",
    "        theta['c']-=self.learning_rate*dtheta['dc']\n",
    "        return theta\n",
    "\n",
    "    def fit(self):\n",
    "        self.theta = {'m': 0, 'c': 0}\n",
    "        i = 0\n",
    "        while i<self.num_steps:\n",
    "            Y_hat, loss = self.forward_prop(self.theta, self.X, self.Y)\n",
    "            dtheta = self.back_prop(self.X, Y_hat, self.Y)\n",
    "            self.theta = self.update(self.theta, dtheta)\n",
    "            if i%100==0:\n",
    "                print('Loss=%f at %ith iteration' %(loss, i))\n",
    "            i+=1\n",
    "\n",
    "    def predict(self, x):\n",
    "        return self.theta['m']*x + self.theta['c']"
   ]
  },
  {
   "cell_type": "code",
   "execution_count": 7,
   "metadata": {},
   "outputs": [
    {
     "name": "stdout",
     "output_type": "stream",
     "text": [
      "Loss=31.457046 at 0th iteration\n",
      "Loss=7.475649 at 100th iteration\n",
      "Loss=5.289056 at 200th iteration\n",
      "Loss=3.823936 at 300th iteration\n",
      "Loss=2.842230 at 400th iteration\n",
      "Loss=2.184437 at 500th iteration\n",
      "Loss=1.743681 at 600th iteration\n",
      "Loss=1.448352 at 700th iteration\n",
      "Loss=1.250466 at 800th iteration\n",
      "Loss=1.117873 at 900th iteration\n"
     ]
    }
   ],
   "source": [
    "regressor = LinearRegression()\n",
    "regressor.fit()"
   ]
  },
  {
   "cell_type": "code",
   "execution_count": 8,
   "metadata": {},
   "outputs": [
    {
     "name": "stdout",
     "output_type": "stream",
     "text": [
      "For X=100, Y_true = 81.070000, Y_pred = 80.773677\n"
     ]
    }
   ],
   "source": [
    "print('For X=100, Y_true = %f, Y_pred = %f' %(100*.78+3.07, regressor.predict(100)))"
   ]
  },
  {
   "cell_type": "code",
   "execution_count": 9,
   "metadata": {},
   "outputs": [
    {
     "data": {
      "text/plain": [
       "{'m': 0.7805355161568999, 'c': 2.7201258764999374}"
      ]
     },
     "execution_count": 9,
     "metadata": {},
     "output_type": "execute_result"
    }
   ],
   "source": [
    "# Predicted slope and intercept\n",
    "regressor.theta"
   ]
  },
  {
   "cell_type": "markdown",
   "metadata": {},
   "source": [
    "## Linear Regression direct equation"
   ]
  },
  {
   "cell_type": "markdown",
   "metadata": {},
   "source": [
    "Since linear regression loss is directly differetiable with respect to the the model parameters (slope and intercept), we can obtain them directly  by differentiating the loss w.r.t. parameters and equating to 0:"
   ]
  },
  {
   "cell_type": "markdown",
   "metadata": {},
   "source": [
    "\\begin{equation}\n",
    "L = \\frac1N \\times \\sum_{i=1}^{N} (mX_i + c-Y_i)^2 \\\\\n",
    "\\frac {\\partial L} {\\partial m} = \\frac2N \\times \\sum_{i=1}^{N} X_i(mX_i + c-Y_i)  \\\\\n",
    "\\frac {\\partial L} {\\partial c} = \\frac2N \\times \\sum_{i=1}^{N} (mX_i + c-Y_i)  \\\\\n",
    "\\end{equation}\n",
    "\n",
    "Setting the last eqn to 0 gives us:\n",
    "\n",
    "\n",
    "\\begin{equation}\n",
    "c =  \\bar Y - m \\bar X\n",
    "\\end{equation}\n",
    "\n",
    "Substituting this in the 2nd last eqn and equating to 0 gives us:\n",
    "\\begin{equation}\n",
    "m \\sum_{i=1}^{N} X_i^2 + (\\bar Y - m \\bar X) \\sum_{i=1}^{N} X_i - \\sum_{i=1}^{N} X_iY_i  = 0 \\\\\n",
    "m \\sum_{i=1}^{N} X_i^2 + N \\bar X(\\bar Y - m \\bar X) - \\sum_{i=1}^{N} X_iY_i = 0 \\\\\n",
    "m = \\frac {\\sum_{i=1}^{N} X_iY_i - N \\bar X \\bar Y} {\\sum_{i=1}^{N} X_i^2 - N \\bar X^2}  \\\\\n",
    "\\end{equation}\n",
    "\n"
   ]
  },
  {
   "cell_type": "code",
   "execution_count": 31,
   "metadata": {},
   "outputs": [],
   "source": [
    "X_bar, Y_bar = np.mean(X), np.mean(Y)\n",
    "m = (np.dot(X, Y) - N*X_bar*Y_bar)/(np.sum(np.power(X, 2)) - N*(X_bar**2))\n",
    "c = Y_bar - m*X_bar"
   ]
  },
  {
   "cell_type": "code",
   "execution_count": 32,
   "metadata": {},
   "outputs": [
    {
     "data": {
      "text/plain": [
       "(0.8180617202083262, 3.118449152689907)"
      ]
     },
     "execution_count": 32,
     "metadata": {},
     "output_type": "execute_result"
    }
   ],
   "source": [
    "m, c"
   ]
  },
  {
   "cell_type": "markdown",
   "metadata": {},
   "source": [
    "which is quite close to our actual slope and intercept of .78 and 3.07"
   ]
  },
  {
   "cell_type": "markdown",
   "metadata": {},
   "source": [
    "Note that we can also write the equation for m as\n",
    "\n",
    "\\begin{equation}\n",
    "m = \\frac {(X_i - \\bar X)(Y_i - \\bar Y)} {(X_i - \\bar X)^2} \\\\ \n",
    "m = \\frac {Cov(X, Y)} {Var(X)} \\\\\n",
    "\\end{equation}"
   ]
  }
 ],
 "metadata": {
  "kernelspec": {
   "display_name": "Python 3",
   "language": "python",
   "name": "python3"
  },
  "language_info": {
   "codemirror_mode": {
    "name": "ipython",
    "version": 3
   },
   "file_extension": ".py",
   "mimetype": "text/x-python",
   "name": "python",
   "nbconvert_exporter": "python",
   "pygments_lexer": "ipython3",
   "version": "3.6.8"
  }
 },
 "nbformat": 4,
 "nbformat_minor": 2
}
